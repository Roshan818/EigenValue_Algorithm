{
  "nbformat": 4,
  "nbformat_minor": 0,
  "metadata": {
    "colab": {
      "provenance": []
    },
    "kernelspec": {
      "name": "python3",
      "display_name": "Python 3"
    },
    "language_info": {
      "name": "python"
    }
  },
  "cells": [
    {
      "cell_type": "markdown",
      "source": [
        "## Power Iteration"
      ],
      "metadata": {
        "id": "qU3jjSfnITTx"
      }
    },
    {
      "cell_type": "code",
      "execution_count": 1,
      "metadata": {
        "colab": {
          "base_uri": "https://localhost:8080/"
        },
        "id": "kWujw4cOIBoB",
        "outputId": "5744ecd9-3190-4c71-9cd3-6cc98fb7a824"
      },
      "outputs": [
        {
          "output_type": "stream",
          "name": "stdout",
          "text": [
            "Dominant eigenvalue: 5.000000004442521\n",
            "Eigenvector corresponding to the dominant eigenvalue: [0.89442719 0.4472136 ]\n"
          ]
        }
      ],
      "source": [
        "import numpy as np\n",
        "\n",
        "def power_iteration(matrix, num_iterations=1000, epsilon=1e-8):\n",
        "    \"\"\"\n",
        "    Power Iteration Algorithm to compute the dominant eigenvalue and eigenvector of a matrix.\n",
        "    \n",
        "    Args:\n",
        "        matrix (np.ndarray): The input matrix.\n",
        "        num_iterations (int): The number of iterations for the algorithm (default is 1000).\n",
        "        epsilon (float): The convergence threshold for the eigenvalue (default is 1e-8).\n",
        "        \n",
        "    Returns:\n",
        "        float: The dominant eigenvalue.\n",
        "        np.ndarray: The eigenvector corresponding to the dominant eigenvalue.\n",
        "    \"\"\"\n",
        "    # Get the dimensions of the input matrix\n",
        "    n, m = matrix.shape\n",
        "    \n",
        "    # Initialize a random vector as the starting vector for power iteration\n",
        "    initial_vector = np.random.rand(m)\n",
        "    \n",
        "    # Normalize the initial vector\n",
        "    initial_vector = initial_vector / np.linalg.norm(initial_vector)\n",
        "    \n",
        "    # Initialize the previous eigenvalue\n",
        "    prev_eigenvalue = 0\n",
        "    \n",
        "    # Perform power iteration\n",
        "    for i in range(num_iterations):\n",
        "        # Update the vector by multiplying with the matrix\n",
        "        updated_vector = np.dot(matrix, initial_vector)\n",
        "        \n",
        "        # Compute the eigenvalue by taking the dot product of updated vector and initial vector\n",
        "        eigenvalue = np.dot(updated_vector, initial_vector)\n",
        "        \n",
        "        # Normalize the updated vector\n",
        "        updated_vector = updated_vector / np.linalg.norm(updated_vector)\n",
        "        \n",
        "        # Check for convergence\n",
        "        if np.abs(eigenvalue - prev_eigenvalue) < epsilon:\n",
        "            break\n",
        "        \n",
        "        # Update the initial vector and eigenvalue for the next iteration\n",
        "        initial_vector = updated_vector\n",
        "        prev_eigenvalue = eigenvalue\n",
        "    \n",
        "    # Compute the eigenvector corresponding to the dominant eigenvalue\n",
        "    eigenvector = initial_vector\n",
        "    \n",
        "    return eigenvalue, eigenvector\n",
        "\n",
        "# Example usage:\n",
        "\n",
        "# Define the input matrix\n",
        "matrix = np.array([[4, 2], [1, 3]])\n",
        "\n",
        "# Call the power_iteration function to compute the eigenvalue and eigenvector\n",
        "eigenvalue, eigenvector = power_iteration(matrix)\n",
        "\n",
        "# Print the results\n",
        "print(\"Dominant eigenvalue:\", eigenvalue)\n",
        "print(\"Eigenvector corresponding to the dominant eigenvalue:\", eigenvector)\n"
      ]
    },
    {
      "cell_type": "markdown",
      "source": [
        "## Rayleigh Quotient Iteration"
      ],
      "metadata": {
        "id": "oL89nGUGIXsk"
      }
    },
    {
      "cell_type": "code",
      "source": [
        "import numpy as np\n",
        "\n",
        "def rayleigh_quotient_iteration(A, max_iterations=100, tol=1e-6):\n",
        "    \"\"\"\n",
        "    Rayleigh quotient iteration to compute the eigenvalue and eigenvector of a matrix A.\n",
        "\n",
        "    Args:\n",
        "        A (np.ndarray): The input matrix.\n",
        "        max_iterations (int): The maximum number of iterations (default is 100).\n",
        "        tol (float): The tolerance for convergence (default is 1e-6).\n",
        "\n",
        "    Returns:\n",
        "        float: The computed eigenvalue.\n",
        "        np.ndarray: The computed eigenvector.\n",
        "    \"\"\"\n",
        "    # Get the size of the matrix\n",
        "    n = A.shape[0]\n",
        "\n",
        "    # Initialize the eigenvector\n",
        "    x = np.random.rand(n)\n",
        "    x = x / np.linalg.norm(x)\n",
        "\n",
        "    # Iterate until convergence\n",
        "    for i in range(max_iterations):\n",
        "        # Compute the Rayleigh quotient\n",
        "        lam = x.T @ A @ x / (x.T @ x)\n",
        "\n",
        "        # Update the eigenvector\n",
        "        x_new = np.linalg.solve(A - lam * np.eye(n), x)\n",
        "        x_new = x_new / np.linalg.norm(x_new)\n",
        "\n",
        "        # Check for convergence\n",
        "        if np.linalg.norm(x_new - x) < tol:\n",
        "            break\n",
        "\n",
        "        # Update the eigenvector for the next iteration\n",
        "        x = x_new\n",
        "\n",
        "    # Compute the final eigenvalue\n",
        "    lam = x.T @ A @ x / (x.T @ x)\n",
        "\n",
        "    return lam, x\n",
        "\n",
        "# Example usage:\n",
        "\n",
        "# Define the input matrix\n",
        "A = np.array([[4, 2], [1, 3]])\n",
        "\n",
        "# Call the rayleigh_quotient_iteration function to compute the eigenvalue and eigenvector\n",
        "eigenvalue, eigenvector = rayleigh_quotient_iteration(A)\n",
        "\n",
        "# Print the results\n",
        "print(\"Eigenvalue:\", eigenvalue)\n",
        "print(\"Eigenvector:\", eigenvector)\n"
      ],
      "metadata": {
        "colab": {
          "base_uri": "https://localhost:8080/"
        },
        "id": "9QllTIBGICoO",
        "outputId": "0a2c42cd-cc2f-4efd-b8a3-20ba83f9bd35"
      },
      "execution_count": 2,
      "outputs": [
        {
          "output_type": "stream",
          "name": "stdout",
          "text": [
            "Eigenvalue: 5.000000000000001\n",
            "Eigenvector: [0.89442719 0.4472136 ]\n"
          ]
        }
      ]
    },
    {
      "cell_type": "markdown",
      "source": [
        "## QR Algorithm"
      ],
      "metadata": {
        "id": "Yw0LD9JaI9-o"
      }
    },
    {
      "cell_type": "code",
      "source": [
        "import numpy as np\n",
        "\n",
        "def qr_algorithm(A, max_iterations=100, tol=1e-6):\n",
        "    \"\"\"\n",
        "    QR algorithm to compute the eigenvalues and eigenvectors of a matrix A.\n",
        "\n",
        "    Args:\n",
        "        A (np.ndarray): The input matrix.\n",
        "        max_iterations (int): The maximum number of iterations (default is 100).\n",
        "        tol (float): The tolerance for convergence (default is 1e-6).\n",
        "\n",
        "    Returns:\n",
        "        np.ndarray: The computed eigenvalues.\n",
        "        np.ndarray: The computed eigenvectors.\n",
        "    \"\"\"\n",
        "    # Get the size of the matrix\n",
        "    n = A.shape[0]\n",
        "\n",
        "    # Initialize the eigenvalues and eigenvectors\n",
        "    eigenvalues = np.zeros(n, dtype=complex)\n",
        "    eigenvectors = np.eye(n)\n",
        "\n",
        "    # Iterate until convergence or maximum iterations reached\n",
        "    for i in range(max_iterations):\n",
        "        # Compute the QR decomposition of A\n",
        "        Q, R = np.linalg.qr(A)\n",
        "\n",
        "        # Update A with RQ decomposition\n",
        "        A = R @ Q\n",
        "\n",
        "        # Update the eigenvectors\n",
        "        eigenvectors = eigenvectors @ Q\n",
        "\n",
        "        # Check for convergence\n",
        "        off_diag_norm = np.linalg.norm(A - np.diag(np.diagonal(A)))\n",
        "        if off_diag_norm < tol:\n",
        "            break\n",
        "\n",
        "    # Extract the eigenvalues from the diagonal of A\n",
        "    eigenvalues = np.diagonal(A)\n",
        "\n",
        "    return eigenvalues, eigenvectors\n",
        "\n",
        "# Example usage:\n",
        "\n",
        "# Define the input matrix\n",
        "A = np.array([[4, 2], [1, 3]])\n",
        "\n",
        "# Call the qr_algorithm function to compute the eigenvalues and eigenvectors\n",
        "eigenvalues, eigenvectors = qr_algorithm(A)\n",
        "\n",
        "# Print the results\n",
        "print(\"Eigenvalues:\", eigenvalues)\n",
        "print(\"Eigenvectors:\")\n",
        "for i in range(len(eigenvalues)):\n",
        "    print(\"Eigenvalue:\", eigenvalues[i])\n",
        "    print(\"Eigenvector:\", eigenvectors[:, i])\n"
      ],
      "metadata": {
        "colab": {
          "base_uri": "https://localhost:8080/"
        },
        "id": "FO2CnTQjIJzi",
        "outputId": "9d3d3c88-af81-4ba7-f0ab-6530d71ee1e0"
      },
      "execution_count": 3,
      "outputs": [
        {
          "output_type": "stream",
          "name": "stdout",
          "text": [
            "Eigenvalues: [5. 2.]\n",
            "Eigenvectors:\n",
            "Eigenvalue: 5.0\n",
            "Eigenvector: [0.89442719 0.4472136 ]\n",
            "Eigenvalue: 1.9999999999999998\n",
            "Eigenvector: [-0.4472136   0.89442719]\n"
          ]
        }
      ]
    },
    {
      "cell_type": "markdown",
      "source": [
        "## Jacobi EigenValue Algorithm"
      ],
      "metadata": {
        "id": "ZA0XNxUbJeNp"
      }
    },
    {
      "cell_type": "code",
      "source": [
        "import numpy as np\n",
        "\n",
        "def jacobi_eigenvalue_algorithm(A, max_iterations=100, tol=1e-6):\n",
        "    \"\"\"\n",
        "    Jacobi eigenvalue algorithm to compute the eigenvalues and eigenvectors of a symmetric matrix A.\n",
        "\n",
        "    Args:\n",
        "        A (np.ndarray): The input symmetric matrix.\n",
        "        max_iterations (int): The maximum number of iterations (default is 100).\n",
        "        tol (float): The tolerance for convergence (default is 1e-6).\n",
        "\n",
        "    Returns:\n",
        "        np.ndarray: The computed eigenvalues.\n",
        "        np.ndarray: The computed eigenvectors.\n",
        "    \"\"\"\n",
        "    # Get the size of the matrix\n",
        "    n = A.shape[0]\n",
        "\n",
        "    # Initialize the eigenvalues and eigenvectors\n",
        "    eigenvalues = np.diagonal(A)\n",
        "    eigenvectors = np.eye(n)\n",
        "\n",
        "    # Iterate until convergence or maximum iterations reached\n",
        "    for i in range(max_iterations):\n",
        "        # Find the largest off-diagonal element in magnitude\n",
        "        max_idx = np.argmax(np.abs(A - np.diag(np.diagonal(A))))\n",
        "        row = max_idx // n\n",
        "        col = max_idx % n\n",
        "\n",
        "        # Compute the rotation angle\n",
        "        if A[row, col] != 0:\n",
        "            theta = 0.5 * np.arctan(2 * A[row, col] / (A[row, row] - A[col, col]))\n",
        "        else:\n",
        "            theta = np.pi / 4  # If A[row, col] is zero, set theta to pi/4\n",
        "\n",
        "        # Construct the rotation matrix\n",
        "        R = np.eye(n)\n",
        "        R[row, row] = np.cos(theta)\n",
        "        R[col, col] = np.cos(theta)\n",
        "        R[row, col] = np.sin(theta)\n",
        "        R[col, row] = -np.sin(theta)\n",
        "\n",
        "        # Update A and eigenvectors with the rotation\n",
        "        A = R.T @ A @ R\n",
        "        eigenvectors = eigenvectors @ R\n",
        "\n",
        "        # Check for convergence\n",
        "        off_diag_norm = np.linalg.norm(A - np.diag(np.diagonal(A)))\n",
        "        if off_diag_norm < tol:\n",
        "            break\n",
        "\n",
        "    # Extract the eigenvalues from the diagonal of A\n",
        "    eigenvalues = np.diagonal(A)\n",
        "\n",
        "    return eigenvalues, eigenvectors\n",
        "\n",
        "# Example usage:\n",
        "\n",
        "# Define the input symmetric matrix\n",
        "A = np.array([[4, 2, 1],\n",
        "              [2, 5, 3],\n",
        "              [1, 3, 6]])\n",
        "\n",
        "# Call the jacobi_eigenvalue_algorithm function to compute the eigenvalues and eigenvectors\n",
        "eigenvalues, eigenvectors = jacobi_eigenvalue_algorithm(A)\n",
        "\n",
        "# Print the results\n",
        "print(\"Eigenvalues:\", eigenvalues)\n",
        "print(\"Eigenvectors:\")\n",
        "for i in range(len(eigenvalues)):\n",
        "    print(\"Eigenvalue:\", eigenvalues[i])\n",
        "    print(\"Eigenvector:\", eigenvectors[:, i])\n"
      ],
      "metadata": {
        "colab": {
          "base_uri": "https://localhost:8080/"
        },
        "id": "NfSf8lIFI3Qh",
        "outputId": "c8ba7109-882f-413c-ab11-d5d2151ff388"
      },
      "execution_count": 4,
      "outputs": [
        {
          "output_type": "stream",
          "name": "stdout",
          "text": [
            "Eigenvalues: [3.43428689 3.71818857 7.84752454]\n",
            "Eigenvectors:\n",
            "Eigenvalue: 3.4342868890611657\n",
            "Eigenvector: [-0.22462781  0.96655387 -0.12375767]\n",
            "Eigenvalue: 3.7181885666233936\n",
            "Eigenvector: [-0.81095005 -0.1150086   0.57370117]\n",
            "Eigenvalue: 7.847524544315434\n",
            "Eigenvector: [0.54027989 0.22923053 0.80966104]\n"
          ]
        }
      ]
    },
    {
      "cell_type": "code",
      "source": [],
      "metadata": {
        "id": "vrMztYF_JbeL"
      },
      "execution_count": null,
      "outputs": []
    }
  ]
}